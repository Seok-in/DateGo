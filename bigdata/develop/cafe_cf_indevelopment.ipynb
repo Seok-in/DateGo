{
 "cells": [
  {
   "cell_type": "markdown",
   "id": "6af42df6",
   "metadata": {},
   "source": [
    "# DATE GO\n",
    "## 데이트 코스 추천\n",
    "#### CBF(초반 사용자 데이터 부족시 비중 多) + CF(데이터 충분해지면 비중 多)\n",
    "! 이 파일은 cafe data 기준"
   ]
  },
  {
   "cell_type": "code",
   "execution_count": 101,
   "id": "80253cf9",
   "metadata": {},
   "outputs": [],
   "source": [
    "import pandas as pd\n",
    "from math import log\n",
    "from surprise import Reader, Dataset\n",
    "from surprise import SVD, KNNBasic\n",
    "from surprise import Dataset\n",
    "from surprise import accuracy\n",
    "from surprise.model_selection import train_test_split\n",
    "from surprise.model_selection import GridSearchCV\n",
    "from surprise.dataset import DatasetAutoFolds\n",
    "from collections import defaultdict\n",
    "import os"
   ]
  },
  {
   "cell_type": "markdown",
   "id": "43b3cbcf",
   "metadata": {},
   "source": [
    "# 0. Load Data\n",
    "CSV 불러오기"
   ]
  },
  {
   "cell_type": "code",
   "execution_count": 2,
   "id": "5829e28e",
   "metadata": {},
   "outputs": [],
   "source": [
    "# csv파일 불러오기\n",
    "raw_data = pd.read_csv(\"./cafe_info.csv\", encoding=\"cp949\")\n",
    "user_data = pd.read_csv(\"./user_review.csv\", encoding=\"cp949\")\n",
    "\n",
    "mat_list = []\n",
    "tag_list = ['가성비좋은',\t'분위기좋은',\t'감성카페',\t'고급스러운',\t'조용한',\t'깔끔한',\n",
    "            '디저트',\t'인테리어',\t'사진찍기좋은',\t'이색적인',\t'뷰가좋은',\t'예쁜',\t'동네핫플']\n",
    "\n",
    "# 총 문서의 수\n",
    "N = len(raw_data)"
   ]
  },
  {
   "cell_type": "markdown",
   "id": "534f515d",
   "metadata": {},
   "source": [
    "# 1. CBF\n",
    "1. store_id, tags로 tf-idf 계산\n",
    "    - 카테고리 별로 태그 종류가 다름.\n",
    "------------------  \n",
    "2. 사용자가 취향 설정시 선택한 태그들을 기반으로 **가상의 가게**를 설정\n",
    "    - cosine sim은 방향이 중요하므로 cos 직전에 유사도 체크\n",
    "-----------------  \n",
    "3. cosine similarity matrix 구하기\n",
    "    - shape : (가게수, 가게수)\n",
    "\n",
    "--------------------------\n",
    "\n",
    "4. 2에서 설정한 **가상의 가게**와의 유사도 + 가중치\n",
    "    - 가중치 : 리뷰 개수 절대적으로 반영? minmax scaler 이용하여 상대적으로 반영?\n",
    "    - 절대적 반영:\n",
    "        - c : 리뷰 수, r : rating\n",
    "        - ( min(c, 100) + r * 20 ) / 200\n",
    "------------------  \n",
    "5. sort\n",
    "------------------  \n",
    "6. 상위 K개 가게 추출"
   ]
  },
  {
   "cell_type": "code",
   "execution_count": 3,
   "id": "70e78bd3",
   "metadata": {},
   "outputs": [],
   "source": [
    "def tf(t, d):\n",
    "    # d => 인덱스의 태그들, t => 태그 하나\n",
    "    return d.count(t)\n",
    "\n",
    "\n",
    "def idf(t):\n",
    "    df = 0\n",
    "    # 전체 태그들중에 해당 태그가 몇번 사용됐는디 로그로\n",
    "    df += sum(raw_data[t].values)\n",
    "    return log(N/(df+1))\n",
    "\n",
    "\n",
    "def tfidf(t, d, i):\n",
    "    # tf는 정의대로 수정\n",
    "    return raw_data[t][i] * idf(t)"
   ]
  },
  {
   "cell_type": "code",
   "execution_count": 4,
   "id": "1b0ee016",
   "metadata": {},
   "outputs": [
    {
     "name": "stdout",
     "output_type": "stream",
     "text": [
      "tf_      가성비좋은  분위기좋은  감성카페  고급스러운  조용한  깔끔한  디저트  인테리어  사진찍기좋은  이색적인  뷰가좋은  예쁜  \\\n",
      "0        1      1     0      0    0    1    0     0       1     1     0   0   \n",
      "1        0      1     0      0    0    1    1     0       0     0     0   1   \n",
      "2        1      1     0      0    1    1    0     0       0     0     1   1   \n",
      "3        0      0     0      0    1    1    0     0       0     0     1   1   \n",
      "4        1      1     0      1    1    0    1     1       0     0     1   1   \n",
      "..     ...    ...   ...    ...  ...  ...  ...   ...     ...   ...   ...  ..   \n",
      "859      1      1     0      1    0    0    1     1       0     0     1   1   \n",
      "860      0      0     1      0    1    0    0     0       1     1     0   1   \n",
      "861      1      0     0      0    1    1    0     0       0     1     0   1   \n",
      "862      0      1     1      0    1    0    0     0       1     1     1   0   \n",
      "863      1      0     1      0    1    1    0     1       1     0     1   0   \n",
      "\n",
      "     동네핫플  \n",
      "0       1  \n",
      "1       1  \n",
      "2       0  \n",
      "3       1  \n",
      "4       0  \n",
      "..    ...  \n",
      "859     0  \n",
      "860     0  \n",
      "861     1  \n",
      "862     0  \n",
      "863     1  \n",
      "\n",
      "[864 rows x 13 columns]\n"
     ]
    }
   ],
   "source": [
    "result = []\n",
    "\n",
    "# ---------------------------------tf-----------------------------\n",
    "for i in range(N):\n",
    "    temp = []\n",
    "    for key in tag_list:\n",
    "        temp.append(raw_data[key][i])\n",
    "    mat_list.append(temp)\n",
    "tf_ = pd.DataFrame(mat_list, columns=tag_list)\n",
    "print('tf_', tf_)"
   ]
  },
  {
   "cell_type": "code",
   "execution_count": 5,
   "id": "bf7ad000",
   "metadata": {},
   "outputs": [
    {
     "name": "stdout",
     "output_type": "stream",
     "text": [
      "idf_              IDF\n",
      "가성비좋은   0.654550\n",
      "분위기좋은   0.709484\n",
      "감성카페    0.700116\n",
      "고급스러운   0.726091\n",
      "조용한     0.765121\n",
      "깔끔한     0.690835\n",
      "디저트     0.688528\n",
      "인테리어    0.652325\n",
      "사진찍기좋은  0.670263\n",
      "이색적인    0.702450\n",
      "뷰가좋은    0.654550\n",
      "예쁜      0.723702\n",
      "동네핫플    0.665748\n"
     ]
    }
   ],
   "source": [
    "# --------------------------------idf-----------------------------\n",
    "result = []\n",
    "for j in range(len(tag_list)):\n",
    "    t = tag_list[j]\n",
    "    result.append(idf(t))\n",
    "\n",
    "idf_ = pd.DataFrame(result, index=tag_list, columns=[\"IDF\"])\n",
    "print('idf_', idf_)"
   ]
  },
  {
   "cell_type": "code",
   "execution_count": 6,
   "id": "caff2f05",
   "metadata": {
    "scrolled": true
   },
   "outputs": [
    {
     "name": "stdout",
     "output_type": "stream",
     "text": [
      "tfidf_        가성비좋은     분위기좋은      감성카페     고급스러운       조용한       깔끔한       디저트  \\\n",
      "0    0.65455  0.709484  0.000000  0.000000  0.000000  0.690835  0.000000   \n",
      "1    0.00000  0.709484  0.000000  0.000000  0.000000  0.690835  0.688528   \n",
      "2    0.65455  0.709484  0.000000  0.000000  0.765121  0.690835  0.000000   \n",
      "3    0.00000  0.000000  0.000000  0.000000  0.765121  0.690835  0.000000   \n",
      "4    0.65455  0.709484  0.000000  0.726091  0.765121  0.000000  0.688528   \n",
      "..       ...       ...       ...       ...       ...       ...       ...   \n",
      "859  0.65455  0.709484  0.000000  0.726091  0.000000  0.000000  0.688528   \n",
      "860  0.00000  0.000000  0.700116  0.000000  0.765121  0.000000  0.000000   \n",
      "861  0.65455  0.000000  0.000000  0.000000  0.765121  0.690835  0.000000   \n",
      "862  0.00000  0.709484  0.700116  0.000000  0.765121  0.000000  0.000000   \n",
      "863  0.65455  0.000000  0.700116  0.000000  0.765121  0.690835  0.000000   \n",
      "\n",
      "         인테리어    사진찍기좋은     이색적인     뷰가좋은        예쁜      동네핫플  \n",
      "0    0.000000  0.670263  0.70245  0.00000  0.000000  0.665748  \n",
      "1    0.000000  0.000000  0.00000  0.00000  0.723702  0.665748  \n",
      "2    0.000000  0.000000  0.00000  0.65455  0.723702  0.000000  \n",
      "3    0.000000  0.000000  0.00000  0.65455  0.723702  0.665748  \n",
      "4    0.652325  0.000000  0.00000  0.65455  0.723702  0.000000  \n",
      "..        ...       ...      ...      ...       ...       ...  \n",
      "859  0.652325  0.000000  0.00000  0.65455  0.723702  0.000000  \n",
      "860  0.000000  0.670263  0.70245  0.00000  0.723702  0.000000  \n",
      "861  0.000000  0.000000  0.70245  0.00000  0.723702  0.665748  \n",
      "862  0.000000  0.670263  0.70245  0.65455  0.000000  0.000000  \n",
      "863  0.652325  0.670263  0.00000  0.65455  0.000000  0.665748  \n",
      "\n",
      "[864 rows x 13 columns]\n"
     ]
    }
   ],
   "source": [
    "# ------------------------------tf-idf----------------------------\n",
    "result = []\n",
    "for i in range(N):\n",
    "    result.append([])\n",
    "    d = raw_data['name'][i]\n",
    "    for j in range(len(tag_list)):\n",
    "        t = tag_list[j]\n",
    "        result[-1].append(tfidf(t, d, i))\n",
    "\n",
    "tfidf_ = pd.DataFrame(result, columns=tag_list)\n",
    "print('tfidf_', tfidf_)"
   ]
  },
  {
   "cell_type": "code",
   "execution_count": 44,
   "id": "61ca95c0",
   "metadata": {},
   "outputs": [],
   "source": [
    "def func(idx):\n",
    "#     if raw_data['count'][idx] > 100 : c = 100\n",
    "#     else : c = raw_data['count'][idx]\n",
    "    return (min(100, raw_data['count'][idx]) + raw_data['rating'][idx]*20)/200"
   ]
  },
  {
   "cell_type": "code",
   "execution_count": 8,
   "id": "8dfe5c76",
   "metadata": {},
   "outputs": [],
   "source": [
    "def compute_cos_sim(arr): #cosine 유사도\n",
    "    cosine_matrix = cosine_similarity(arr, arr)\n",
    "    spotId = {}\n",
    "    for idx, c in enumerate(raw_data['name']):  spotId[idx] = c\n",
    "    id2spot = {}\n",
    "    for idx, c in spotId.items() : id2spot[c] = idx\n",
    "    return cosine_matrix, spotId, id2spot"
   ]
  },
  {
   "cell_type": "code",
   "execution_count": 9,
   "id": "6c385604",
   "metadata": {},
   "outputs": [],
   "source": [
    "def get_k_sim(name, k): #가중치 계산\n",
    "    idx = id2spot[name]\n",
    "    sim_scores = [(i, c + func(i) ) for i, c in enumerate(cosine_matrix[idx]) if i != idx]\n",
    "    sim_scores = sorted(sim_scores, key=lambda x:x[1], reverse = True)\n",
    "    sim_scores = [(spotId[i], score) for i, score in sim_scores[0:k]]\n",
    "    return sim_scores\n",
    "\n",
    "def get_k_sim2(name, k): #가중치 없이 유사도만\n",
    "    idx = id2spot[name]\n",
    "    sim_scores = [(i, c ) for i, c in enumerate(cosine_matrix[idx]) if i != idx]\n",
    "    sim_scores = sorted(sim_scores, key=lambda x:x[1], reverse = True)\n",
    "    sim_scores = [(spotId[i], score) for i, score in sim_scores[0:k]]\n",
    "    return sim_scores"
   ]
  },
  {
   "cell_type": "markdown",
   "id": "2a68767e",
   "metadata": {},
   "source": [
    "# 2. CF\n",
    "###  KNNBasic (K-nearest neighbor) in surprise  \n",
    "1. user_id, store_id, rating 사용. KNN 알고리즘 기반으로 **'나'와 유사한 유저 K명** 추출\n",
    "    - '나'와의 유사성은 지금까지의 '나'의 리뷰를 기반으로.\n",
    "    - '나'의 리뷰가 있어야 함.\n",
    "    - 없을 때에는 CBF 100% 반영\n",
    "---------------------\n",
    "2. K명의 유저들의 최근 리뷰 내역 참고하여 5점을 준 가게들 리스트화\n",
    "    - 평균적으로 평점을 높게 주는 사람들 vs 꼼꼼하게 체크하고 정말 만족해야 5점을 주는 사람들 (?Baseline)\n",
    "    - 위의 경우 5점의 가치가 같은가?\n",
    "------------------\n",
    "3. sort 우선순위 : \n",
    "    - 방문횟수가 많을수록 - 전체 유저(count)\n",
    "    - 평점이 높을수록 - 전체 유저\n",
    "    - (인기 많은 가게 추천)\n",
    "-----------------"
   ]
  },
  {
   "cell_type": "code",
   "execution_count": 31,
   "id": "dc01a257",
   "metadata": {},
   "outputs": [],
   "source": [
    "reader = Reader(rating_scale=(1, 5.0))\n",
    "data = Dataset.load_from_df(user_data[['user_id', 'store_id', 'rating']], reader)\n",
    "\n",
    "trainset, testset = train_test_split(data, test_size=.25, random_state=1234)"
   ]
  },
  {
   "cell_type": "code",
   "execution_count": 64,
   "id": "737f071d",
   "metadata": {},
   "outputs": [
    {
     "name": "stdout",
     "output_type": "stream",
     "text": [
      "RMSE: 0.7381\n"
     ]
    },
    {
     "data": {
      "text/plain": [
       "0.7380841618011615"
      ]
     },
     "execution_count": 64,
     "metadata": {},
     "output_type": "execute_result"
    }
   ],
   "source": [
    "# 수행시마다 동일한 결과 도출을 위해 random_state 설정\n",
    "algo = SVD(n_factors=100, random_state=1234)\n",
    "\n",
    "    \n",
    "# 학습 데이터 세트로 학습 후 테스트 데이터 세트로 평점 예측 후 RMSE 평가\n",
    "algo.fit(trainset)\n",
    "predictions = algo.test( testset )\n",
    "accuracy.rmse(predictions)"
   ]
  },
  {
   "cell_type": "code",
   "execution_count": 65,
   "id": "9e71fb48",
   "metadata": {},
   "outputs": [
    {
     "name": "stdout",
     "output_type": "stream",
     "text": [
      "prediction type :  <class 'list'> size :  10\n",
      "prediction 결과\n"
     ]
    },
    {
     "data": {
      "text/plain": [
       "[Prediction(uid=4, iid=2108, r_ui=3.0, est=4.011070955107169, details={'was_impossible': False}),\n",
       " Prediction(uid=2, iid=2616, r_ui=4.0, est=4.514326545786372, details={'was_impossible': False}),\n",
       " Prediction(uid=4, iid=2090, r_ui=5.0, est=4.011070955107169, details={'was_impossible': False}),\n",
       " Prediction(uid=3, iid=2040, r_ui=4.0, est=4.21879464626292, details={'was_impossible': False}),\n",
       " Prediction(uid=3, iid=2016, r_ui=5.0, est=4.21879464626292, details={'was_impossible': False}),\n",
       " Prediction(uid=2, iid=2034, r_ui=5.0, est=4.411451074399704, details={'was_impossible': False}),\n",
       " Prediction(uid=3, iid=2020, r_ui=3.0, est=4.21879464626292, details={'was_impossible': False}),\n",
       " Prediction(uid=2, iid=2741, r_ui=5.0, est=4.411451074399704, details={'was_impossible': False}),\n",
       " Prediction(uid=4, iid=2366, r_ui=4.0, est=4.011070955107169, details={'was_impossible': False}),\n",
       " Prediction(uid=2, iid=2664, r_ui=5.0, est=4.411451074399704, details={'was_impossible': False})]"
      ]
     },
     "execution_count": 65,
     "metadata": {},
     "output_type": "execute_result"
    }
   ],
   "source": [
    "print('prediction type : ', type(predictions), 'size : ', len(predictions))\n",
    "print('prediction 결과')\n",
    "predictions[:]"
   ]
  },
  {
   "cell_type": "code",
   "execution_count": 98,
   "id": "3a1bbe4c",
   "metadata": {},
   "outputs": [
    {
     "name": "stdout",
     "output_type": "stream",
     "text": [
      "user: 4          item: 2108       r_ui = 5.00   est = 4.27   {'was_impossible': False}\n"
     ]
    }
   ],
   "source": [
    "uid = str(4)\n",
    "iid = str(2108)\n",
    "pred = algo.predict(uid, iid)\n",
    "print(pred)"
   ]
  },
  {
   "cell_type": "code",
   "execution_count": 68,
   "id": "dcd3f6d3",
   "metadata": {},
   "outputs": [
    {
     "name": "stdout",
     "output_type": "stream",
     "text": [
      "Computing the msd similarity matrix...\n",
      "Done computing similarity matrix.\n",
      "RMSE: 0.8390\n"
     ]
    },
    {
     "data": {
      "text/plain": [
       "0.8390470785361213"
      ]
     },
     "execution_count": 68,
     "metadata": {},
     "output_type": "execute_result"
    }
   ],
   "source": [
    "opts = {'name' : 'pearson', 'user_based':True}\n",
    "algo2 = KNNBasic(sim_option=opts)\n",
    "\n",
    "algo2.fit(trainset)\n",
    "predictions2 = algo2.test(testset)\n",
    "accuracy.rmse(predictions2)"
   ]
  },
  {
   "cell_type": "code",
   "execution_count": 69,
   "id": "436c74d3",
   "metadata": {
    "scrolled": true
   },
   "outputs": [
    {
     "name": "stdout",
     "output_type": "stream",
     "text": [
      "prediction type :  <class 'list'> size :  10\n",
      "prediction 결과\n"
     ]
    },
    {
     "data": {
      "text/plain": [
       "[Prediction(uid=4, iid=2108, r_ui=3.0, est=4.266666666666667, details={'was_impossible': True, 'reason': 'User and/or item is unknown.'}),\n",
       " Prediction(uid=2, iid=2616, r_ui=4.0, est=5.0, details={'actual_k': 1, 'was_impossible': False}),\n",
       " Prediction(uid=4, iid=2090, r_ui=5.0, est=4.266666666666667, details={'was_impossible': True, 'reason': 'User and/or item is unknown.'}),\n",
       " Prediction(uid=3, iid=2040, r_ui=4.0, est=4.266666666666667, details={'was_impossible': True, 'reason': 'User and/or item is unknown.'}),\n",
       " Prediction(uid=3, iid=2016, r_ui=5.0, est=4.266666666666667, details={'was_impossible': True, 'reason': 'User and/or item is unknown.'}),\n",
       " Prediction(uid=2, iid=2034, r_ui=5.0, est=4.266666666666667, details={'was_impossible': True, 'reason': 'User and/or item is unknown.'}),\n",
       " Prediction(uid=3, iid=2020, r_ui=3.0, est=4.266666666666667, details={'was_impossible': True, 'reason': 'User and/or item is unknown.'}),\n",
       " Prediction(uid=2, iid=2741, r_ui=5.0, est=4.266666666666667, details={'was_impossible': True, 'reason': 'User and/or item is unknown.'}),\n",
       " Prediction(uid=4, iid=2366, r_ui=4.0, est=4.266666666666667, details={'was_impossible': True, 'reason': 'User and/or item is unknown.'}),\n",
       " Prediction(uid=2, iid=2664, r_ui=5.0, est=4.266666666666667, details={'was_impossible': True, 'reason': 'User and/or item is unknown.'})]"
      ]
     },
     "execution_count": 69,
     "metadata": {},
     "output_type": "execute_result"
    }
   ],
   "source": [
    "print('prediction type : ', type(predictions2), 'size : ', len(predictions2))\n",
    "print('prediction 결과')\n",
    "predictions2[:]"
   ]
  },
  {
   "cell_type": "code",
   "execution_count": 100,
   "id": "dd4282d4",
   "metadata": {},
   "outputs": [
    {
     "name": "stdout",
     "output_type": "stream",
     "text": [
      "[Prediction(uid=2, iid=2616, r_ui=4.0, est=5.0, details={'actual_k': 1, 'was_impossible': False})]\n"
     ]
    }
   ],
   "source": [
    "# uid = str(2)\n",
    "# iid = str(2616)\n",
    "pred = algo2.test([[2,2616,4.0]]) # uid, iid, r_ui(None) --> 리스트 형태로!\n",
    "print(pred)"
   ]
  },
  {
   "cell_type": "code",
   "execution_count": 102,
   "id": "6293967b",
   "metadata": {},
   "outputs": [],
   "source": [
    "def get_top_n(predictions, n=10):\n",
    "    \"\"\"Return the top-N recommendation for each user from a set of predictions.\n",
    "    Args:\n",
    "        predictions(list of Prediction objects): The list of predictions, as\n",
    "            returned by the test method of an algorithm.\n",
    "        n(int): The number of recommendation to output for each user. Default\n",
    "            is 10.\n",
    "    Returns:\n",
    "    A dict where keys are user (raw) ids and values are lists of tuples:\n",
    "        [(raw item id, rating estimation), ...] of size n.\n",
    "    \"\"\"\n",
    "\n",
    "    # First map the predictions to each user.\n",
    "    top_n = defaultdict(list)\n",
    "    for uid, iid, true_r, est, _ in predictions:\n",
    "        top_n[uid].append((iid, est))\n",
    "\n",
    "    # Then sort the predictions for each user and retrieve the k highest ones.\n",
    "    for uid, user_ratings in top_n.items():\n",
    "        user_ratings.sort(key=lambda x: x[1], reverse=True)\n",
    "        top_n[uid] = user_ratings[:n]\n",
    "\n",
    "    return top_n"
   ]
  },
  {
   "cell_type": "code",
   "execution_count": 105,
   "id": "277d8dbe",
   "metadata": {},
   "outputs": [],
   "source": [
    "top_n = get_top_n(predictions, n=1)"
   ]
  },
  {
   "cell_type": "code",
   "execution_count": 106,
   "id": "be8472b1",
   "metadata": {},
   "outputs": [
    {
     "name": "stdout",
     "output_type": "stream",
     "text": [
      "4 [2108]\n",
      "2 [2616]\n",
      "3 [2040]\n"
     ]
    }
   ],
   "source": [
    "for uid, user_ratings in top_n.items():\n",
    "    print(uid, [iid for (iid, _) in user_ratings])"
   ]
  },
  {
   "cell_type": "code",
   "execution_count": null,
   "id": "5eb002ea",
   "metadata": {},
   "outputs": [],
   "source": []
  },
  {
   "cell_type": "code",
   "execution_count": 80,
   "id": "b8c8c0ff",
   "metadata": {},
   "outputs": [],
   "source": [
    "# Let's build a pandas dataframe with all the predictions\n",
    "\n",
    "def get_Iu(uid):\n",
    "    \"\"\"Return the number of items rated by given user\n",
    "    \n",
    "    Args:\n",
    "        uid: The raw id of the user.\n",
    "    Returns:\n",
    "        The number of items rated by the user.\n",
    "    \"\"\"\n",
    "    \n",
    "    try:\n",
    "        return len(trainset.ur[trainset.to_inner_uid(uid)])\n",
    "    except ValueError:  # user was not part of the trainset\n",
    "        return 0\n",
    "    \n",
    "def get_Ui(iid):\n",
    "    \"\"\"Return the number of users that have rated given item\n",
    "    \n",
    "    Args:\n",
    "        iid: The raw id of the item.\n",
    "    Returns:\n",
    "        The number of users that have rated the item.\n",
    "    \"\"\"\n",
    "    \n",
    "    try:\n",
    "        return len(trainset.ir[trainset.to_inner_iid(iid)])\n",
    "    except ValueError:  # item was not part of the trainset\n",
    "        return 0\n",
    "\n",
    "dfid = pd.DataFrame(predictions, columns=['uid', 'iid', 'rui', 'est', 'details'])    \n",
    "dfid['Iu'] = dfid.uid.apply(get_Iu)\n",
    "dfid['Ui'] = dfid.iid.apply(get_Ui)\n",
    "dfid['err'] = abs(dfid.est - dfid.rui)"
   ]
  },
  {
   "cell_type": "code",
   "execution_count": 110,
   "id": "2c44971c",
   "metadata": {},
   "outputs": [
    {
     "data": {
      "text/html": [
       "<div>\n",
       "<style scoped>\n",
       "    .dataframe tbody tr th:only-of-type {\n",
       "        vertical-align: middle;\n",
       "    }\n",
       "\n",
       "    .dataframe tbody tr th {\n",
       "        vertical-align: top;\n",
       "    }\n",
       "\n",
       "    .dataframe thead th {\n",
       "        text-align: right;\n",
       "    }\n",
       "</style>\n",
       "<table border=\"1\" class=\"dataframe\">\n",
       "  <thead>\n",
       "    <tr style=\"text-align: right;\">\n",
       "      <th></th>\n",
       "      <th>uid</th>\n",
       "      <th>iid</th>\n",
       "      <th>rui</th>\n",
       "      <th>est</th>\n",
       "      <th>details</th>\n",
       "      <th>Iu</th>\n",
       "      <th>Ui</th>\n",
       "      <th>err</th>\n",
       "    </tr>\n",
       "  </thead>\n",
       "  <tbody>\n",
       "    <tr>\n",
       "      <th>1</th>\n",
       "      <td>2</td>\n",
       "      <td>2616</td>\n",
       "      <td>4.0</td>\n",
       "      <td>4.514327</td>\n",
       "      <td>{'was_impossible': False}</td>\n",
       "      <td>6</td>\n",
       "      <td>1</td>\n",
       "      <td>0.514327</td>\n",
       "    </tr>\n",
       "    <tr>\n",
       "      <th>5</th>\n",
       "      <td>2</td>\n",
       "      <td>2034</td>\n",
       "      <td>5.0</td>\n",
       "      <td>4.411451</td>\n",
       "      <td>{'was_impossible': False}</td>\n",
       "      <td>6</td>\n",
       "      <td>0</td>\n",
       "      <td>0.588549</td>\n",
       "    </tr>\n",
       "    <tr>\n",
       "      <th>7</th>\n",
       "      <td>2</td>\n",
       "      <td>2741</td>\n",
       "      <td>5.0</td>\n",
       "      <td>4.411451</td>\n",
       "      <td>{'was_impossible': False}</td>\n",
       "      <td>6</td>\n",
       "      <td>0</td>\n",
       "      <td>0.588549</td>\n",
       "    </tr>\n",
       "    <tr>\n",
       "      <th>9</th>\n",
       "      <td>2</td>\n",
       "      <td>2664</td>\n",
       "      <td>5.0</td>\n",
       "      <td>4.411451</td>\n",
       "      <td>{'was_impossible': False}</td>\n",
       "      <td>6</td>\n",
       "      <td>0</td>\n",
       "      <td>0.588549</td>\n",
       "    </tr>\n",
       "    <tr>\n",
       "      <th>3</th>\n",
       "      <td>3</td>\n",
       "      <td>2040</td>\n",
       "      <td>4.0</td>\n",
       "      <td>4.218795</td>\n",
       "      <td>{'was_impossible': False}</td>\n",
       "      <td>7</td>\n",
       "      <td>0</td>\n",
       "      <td>0.218795</td>\n",
       "    </tr>\n",
       "    <tr>\n",
       "      <th>4</th>\n",
       "      <td>3</td>\n",
       "      <td>2016</td>\n",
       "      <td>5.0</td>\n",
       "      <td>4.218795</td>\n",
       "      <td>{'was_impossible': False}</td>\n",
       "      <td>7</td>\n",
       "      <td>0</td>\n",
       "      <td>0.781205</td>\n",
       "    </tr>\n",
       "    <tr>\n",
       "      <th>6</th>\n",
       "      <td>3</td>\n",
       "      <td>2020</td>\n",
       "      <td>3.0</td>\n",
       "      <td>4.218795</td>\n",
       "      <td>{'was_impossible': False}</td>\n",
       "      <td>7</td>\n",
       "      <td>0</td>\n",
       "      <td>1.218795</td>\n",
       "    </tr>\n",
       "    <tr>\n",
       "      <th>0</th>\n",
       "      <td>4</td>\n",
       "      <td>2108</td>\n",
       "      <td>3.0</td>\n",
       "      <td>4.011071</td>\n",
       "      <td>{'was_impossible': False}</td>\n",
       "      <td>7</td>\n",
       "      <td>0</td>\n",
       "      <td>1.011071</td>\n",
       "    </tr>\n",
       "    <tr>\n",
       "      <th>2</th>\n",
       "      <td>4</td>\n",
       "      <td>2090</td>\n",
       "      <td>5.0</td>\n",
       "      <td>4.011071</td>\n",
       "      <td>{'was_impossible': False}</td>\n",
       "      <td>7</td>\n",
       "      <td>0</td>\n",
       "      <td>0.988929</td>\n",
       "    </tr>\n",
       "    <tr>\n",
       "      <th>8</th>\n",
       "      <td>4</td>\n",
       "      <td>2366</td>\n",
       "      <td>4.0</td>\n",
       "      <td>4.011071</td>\n",
       "      <td>{'was_impossible': False}</td>\n",
       "      <td>7</td>\n",
       "      <td>0</td>\n",
       "      <td>0.011071</td>\n",
       "    </tr>\n",
       "  </tbody>\n",
       "</table>\n",
       "</div>"
      ],
      "text/plain": [
       "   uid   iid  rui       est                    details  Iu  Ui       err\n",
       "1    2  2616  4.0  4.514327  {'was_impossible': False}   6   1  0.514327\n",
       "5    2  2034  5.0  4.411451  {'was_impossible': False}   6   0  0.588549\n",
       "7    2  2741  5.0  4.411451  {'was_impossible': False}   6   0  0.588549\n",
       "9    2  2664  5.0  4.411451  {'was_impossible': False}   6   0  0.588549\n",
       "3    3  2040  4.0  4.218795  {'was_impossible': False}   7   0  0.218795\n",
       "4    3  2016  5.0  4.218795  {'was_impossible': False}   7   0  0.781205\n",
       "6    3  2020  3.0  4.218795  {'was_impossible': False}   7   0  1.218795\n",
       "0    4  2108  3.0  4.011071  {'was_impossible': False}   7   0  1.011071\n",
       "2    4  2090  5.0  4.011071  {'was_impossible': False}   7   0  0.988929\n",
       "8    4  2366  4.0  4.011071  {'was_impossible': False}   7   0  0.011071"
      ]
     },
     "execution_count": 110,
     "metadata": {},
     "output_type": "execute_result"
    }
   ],
   "source": [
    "dfid.sort_values(by='est', ascending=False)[:10]"
   ]
  },
  {
   "cell_type": "code",
   "execution_count": 108,
   "id": "812a8730",
   "metadata": {},
   "outputs": [
    {
     "data": {
      "text/html": [
       "<div>\n",
       "<style scoped>\n",
       "    .dataframe tbody tr th:only-of-type {\n",
       "        vertical-align: middle;\n",
       "    }\n",
       "\n",
       "    .dataframe tbody tr th {\n",
       "        vertical-align: top;\n",
       "    }\n",
       "\n",
       "    .dataframe thead th {\n",
       "        text-align: right;\n",
       "    }\n",
       "</style>\n",
       "<table border=\"1\" class=\"dataframe\">\n",
       "  <thead>\n",
       "    <tr style=\"text-align: right;\">\n",
       "      <th></th>\n",
       "      <th>uid</th>\n",
       "      <th>iid</th>\n",
       "      <th>rui</th>\n",
       "      <th>est</th>\n",
       "      <th>details</th>\n",
       "      <th>Iu</th>\n",
       "      <th>Ui</th>\n",
       "      <th>err</th>\n",
       "    </tr>\n",
       "  </thead>\n",
       "  <tbody>\n",
       "    <tr>\n",
       "      <th>8</th>\n",
       "      <td>4</td>\n",
       "      <td>2366</td>\n",
       "      <td>4.0</td>\n",
       "      <td>4.011071</td>\n",
       "      <td>{'was_impossible': False}</td>\n",
       "      <td>7</td>\n",
       "      <td>0</td>\n",
       "      <td>0.011071</td>\n",
       "    </tr>\n",
       "    <tr>\n",
       "      <th>3</th>\n",
       "      <td>3</td>\n",
       "      <td>2040</td>\n",
       "      <td>4.0</td>\n",
       "      <td>4.218795</td>\n",
       "      <td>{'was_impossible': False}</td>\n",
       "      <td>7</td>\n",
       "      <td>0</td>\n",
       "      <td>0.218795</td>\n",
       "    </tr>\n",
       "    <tr>\n",
       "      <th>1</th>\n",
       "      <td>2</td>\n",
       "      <td>2616</td>\n",
       "      <td>4.0</td>\n",
       "      <td>4.514327</td>\n",
       "      <td>{'was_impossible': False}</td>\n",
       "      <td>6</td>\n",
       "      <td>1</td>\n",
       "      <td>0.514327</td>\n",
       "    </tr>\n",
       "    <tr>\n",
       "      <th>5</th>\n",
       "      <td>2</td>\n",
       "      <td>2034</td>\n",
       "      <td>5.0</td>\n",
       "      <td>4.411451</td>\n",
       "      <td>{'was_impossible': False}</td>\n",
       "      <td>6</td>\n",
       "      <td>0</td>\n",
       "      <td>0.588549</td>\n",
       "    </tr>\n",
       "    <tr>\n",
       "      <th>7</th>\n",
       "      <td>2</td>\n",
       "      <td>2741</td>\n",
       "      <td>5.0</td>\n",
       "      <td>4.411451</td>\n",
       "      <td>{'was_impossible': False}</td>\n",
       "      <td>6</td>\n",
       "      <td>0</td>\n",
       "      <td>0.588549</td>\n",
       "    </tr>\n",
       "    <tr>\n",
       "      <th>9</th>\n",
       "      <td>2</td>\n",
       "      <td>2664</td>\n",
       "      <td>5.0</td>\n",
       "      <td>4.411451</td>\n",
       "      <td>{'was_impossible': False}</td>\n",
       "      <td>6</td>\n",
       "      <td>0</td>\n",
       "      <td>0.588549</td>\n",
       "    </tr>\n",
       "    <tr>\n",
       "      <th>4</th>\n",
       "      <td>3</td>\n",
       "      <td>2016</td>\n",
       "      <td>5.0</td>\n",
       "      <td>4.218795</td>\n",
       "      <td>{'was_impossible': False}</td>\n",
       "      <td>7</td>\n",
       "      <td>0</td>\n",
       "      <td>0.781205</td>\n",
       "    </tr>\n",
       "    <tr>\n",
       "      <th>2</th>\n",
       "      <td>4</td>\n",
       "      <td>2090</td>\n",
       "      <td>5.0</td>\n",
       "      <td>4.011071</td>\n",
       "      <td>{'was_impossible': False}</td>\n",
       "      <td>7</td>\n",
       "      <td>0</td>\n",
       "      <td>0.988929</td>\n",
       "    </tr>\n",
       "    <tr>\n",
       "      <th>0</th>\n",
       "      <td>4</td>\n",
       "      <td>2108</td>\n",
       "      <td>3.0</td>\n",
       "      <td>4.011071</td>\n",
       "      <td>{'was_impossible': False}</td>\n",
       "      <td>7</td>\n",
       "      <td>0</td>\n",
       "      <td>1.011071</td>\n",
       "    </tr>\n",
       "    <tr>\n",
       "      <th>6</th>\n",
       "      <td>3</td>\n",
       "      <td>2020</td>\n",
       "      <td>3.0</td>\n",
       "      <td>4.218795</td>\n",
       "      <td>{'was_impossible': False}</td>\n",
       "      <td>7</td>\n",
       "      <td>0</td>\n",
       "      <td>1.218795</td>\n",
       "    </tr>\n",
       "  </tbody>\n",
       "</table>\n",
       "</div>"
      ],
      "text/plain": [
       "   uid   iid  rui       est                    details  Iu  Ui       err\n",
       "8    4  2366  4.0  4.011071  {'was_impossible': False}   7   0  0.011071\n",
       "3    3  2040  4.0  4.218795  {'was_impossible': False}   7   0  0.218795\n",
       "1    2  2616  4.0  4.514327  {'was_impossible': False}   6   1  0.514327\n",
       "5    2  2034  5.0  4.411451  {'was_impossible': False}   6   0  0.588549\n",
       "7    2  2741  5.0  4.411451  {'was_impossible': False}   6   0  0.588549\n",
       "9    2  2664  5.0  4.411451  {'was_impossible': False}   6   0  0.588549\n",
       "4    3  2016  5.0  4.218795  {'was_impossible': False}   7   0  0.781205\n",
       "2    4  2090  5.0  4.011071  {'was_impossible': False}   7   0  0.988929\n",
       "0    4  2108  3.0  4.011071  {'was_impossible': False}   7   0  1.011071\n",
       "6    3  2020  3.0  4.218795  {'was_impossible': False}   7   0  1.218795"
      ]
     },
     "execution_count": 108,
     "metadata": {},
     "output_type": "execute_result"
    }
   ],
   "source": [
    "best_predictions = dfid.sort_values(by='err')[:10]\n",
    "best_predictions"
   ]
  },
  {
   "cell_type": "code",
   "execution_count": 91,
   "id": "e55887b8",
   "metadata": {},
   "outputs": [
    {
     "data": {
      "text/html": [
       "<div>\n",
       "<style scoped>\n",
       "    .dataframe tbody tr th:only-of-type {\n",
       "        vertical-align: middle;\n",
       "    }\n",
       "\n",
       "    .dataframe tbody tr th {\n",
       "        vertical-align: top;\n",
       "    }\n",
       "\n",
       "    .dataframe thead th {\n",
       "        text-align: right;\n",
       "    }\n",
       "</style>\n",
       "<table border=\"1\" class=\"dataframe\">\n",
       "  <thead>\n",
       "    <tr style=\"text-align: right;\">\n",
       "      <th></th>\n",
       "      <th>uid</th>\n",
       "      <th>iid</th>\n",
       "      <th>rui</th>\n",
       "      <th>est</th>\n",
       "      <th>details</th>\n",
       "      <th>Iu</th>\n",
       "      <th>Ui</th>\n",
       "      <th>err</th>\n",
       "    </tr>\n",
       "  </thead>\n",
       "  <tbody>\n",
       "    <tr>\n",
       "      <th>9</th>\n",
       "      <td>2</td>\n",
       "      <td>2664</td>\n",
       "      <td>5.0</td>\n",
       "      <td>4.411451</td>\n",
       "      <td>{'was_impossible': False}</td>\n",
       "      <td>6</td>\n",
       "      <td>0</td>\n",
       "      <td>0.588549</td>\n",
       "    </tr>\n",
       "    <tr>\n",
       "      <th>4</th>\n",
       "      <td>3</td>\n",
       "      <td>2016</td>\n",
       "      <td>5.0</td>\n",
       "      <td>4.218795</td>\n",
       "      <td>{'was_impossible': False}</td>\n",
       "      <td>7</td>\n",
       "      <td>0</td>\n",
       "      <td>0.781205</td>\n",
       "    </tr>\n",
       "    <tr>\n",
       "      <th>2</th>\n",
       "      <td>4</td>\n",
       "      <td>2090</td>\n",
       "      <td>5.0</td>\n",
       "      <td>4.011071</td>\n",
       "      <td>{'was_impossible': False}</td>\n",
       "      <td>7</td>\n",
       "      <td>0</td>\n",
       "      <td>0.988929</td>\n",
       "    </tr>\n",
       "    <tr>\n",
       "      <th>0</th>\n",
       "      <td>4</td>\n",
       "      <td>2108</td>\n",
       "      <td>3.0</td>\n",
       "      <td>4.011071</td>\n",
       "      <td>{'was_impossible': False}</td>\n",
       "      <td>7</td>\n",
       "      <td>0</td>\n",
       "      <td>1.011071</td>\n",
       "    </tr>\n",
       "    <tr>\n",
       "      <th>6</th>\n",
       "      <td>3</td>\n",
       "      <td>2020</td>\n",
       "      <td>3.0</td>\n",
       "      <td>4.218795</td>\n",
       "      <td>{'was_impossible': False}</td>\n",
       "      <td>7</td>\n",
       "      <td>0</td>\n",
       "      <td>1.218795</td>\n",
       "    </tr>\n",
       "  </tbody>\n",
       "</table>\n",
       "</div>"
      ],
      "text/plain": [
       "   uid   iid  rui       est                    details  Iu  Ui       err\n",
       "9    2  2664  5.0  4.411451  {'was_impossible': False}   6   0  0.588549\n",
       "4    3  2016  5.0  4.218795  {'was_impossible': False}   7   0  0.781205\n",
       "2    4  2090  5.0  4.011071  {'was_impossible': False}   7   0  0.988929\n",
       "0    4  2108  3.0  4.011071  {'was_impossible': False}   7   0  1.011071\n",
       "6    3  2020  3.0  4.218795  {'was_impossible': False}   7   0  1.218795"
      ]
     },
     "execution_count": 91,
     "metadata": {},
     "output_type": "execute_result"
    }
   ],
   "source": [
    "worst_predictions = dfid.sort_values(by='err')[-5:]\n",
    "worst_predictions"
   ]
  },
  {
   "cell_type": "code",
   "execution_count": null,
   "id": "00e6c0c7",
   "metadata": {},
   "outputs": [],
   "source": []
  },
  {
   "cell_type": "code",
   "execution_count": 16,
   "id": "230ccb56",
   "metadata": {},
   "outputs": [],
   "source": [
    "def recur_dictify(frame):\n",
    "    if len(frame.columns) == 1:\n",
    "        if frame.values.size == 1: return frame.values[0][0]\n",
    "        return frame.values.squeeze()\n",
    "    grouped = frame.groupby(frame.columns[0])\n",
    "    d = {k: recur_dictify(g.iloc[:, 1:]) for k, g in grouped}\n",
    "    return d"
   ]
  },
  {
   "cell_type": "code",
   "execution_count": 17,
   "id": "11c90b96",
   "metadata": {},
   "outputs": [],
   "source": [
    "df_to_dict = recur_dictify(user_data[['user_id', 'store_id', 'rating']])"
   ]
  },
  {
   "cell_type": "code",
   "execution_count": 18,
   "id": "6ae23658",
   "metadata": {},
   "outputs": [],
   "source": [
    "user_list = []\n",
    "store_set = set()\n",
    "\n",
    "for user in df_to_dict:\n",
    "    user_list.append(user)\n",
    "\n",
    "    for store in df_to_dict[user]:\n",
    "        store_set.add(store)\n",
    "\n",
    "store_list = list(store_set)"
   ]
  },
  {
   "cell_type": "code",
   "execution_count": 19,
   "id": "2822669e",
   "metadata": {},
   "outputs": [],
   "source": [
    "# 학습할 데이터를 준비한다.\n",
    "rating_dic = {\n",
    "        'user_id': [],\n",
    "        'store_id': [],\n",
    "        'rating': []\n",
    "    }"
   ]
  },
  {
   "cell_type": "code",
   "execution_count": 20,
   "id": "19403677",
   "metadata": {},
   "outputs": [],
   "source": [
    "# 유저 수 만큼 반복\n",
    "for user in df_to_dict:\n",
    "\t# 해당 유저의 리뷰 수 만큼 반복\n",
    "    for store in df_to_dict[user]:\n",
    "        u_index = user_list.index(user)\n",
    "        s_index = store_list.index(store)\n",
    "        rating = df_to_dict[user][store]\n",
    "\n",
    "        rating_dic['user_id'].append(u_index)\n",
    "        rating_dic['store_id'].append(s_index)\n",
    "        rating_dic['rating'].append(rating)\n",
    "        \n",
    "# 데이터셋 만들기\n",
    "df = pd.DataFrame(rating_dic)"
   ]
  },
  {
   "cell_type": "code",
   "execution_count": 21,
   "id": "078da69d",
   "metadata": {},
   "outputs": [
    {
     "name": "stdout",
     "output_type": "stream",
     "text": [
      "Computing the pearson similarity matrix...\n",
      "Done computing similarity matrix.\n"
     ]
    },
    {
     "data": {
      "text/plain": [
       "<surprise.prediction_algorithms.knns.KNNBasic at 0x1c79587d700>"
      ]
     },
     "execution_count": 21,
     "metadata": {},
     "output_type": "execute_result"
    }
   ],
   "source": [
    "# # 데이터를 읽어들이는 객체 생성 (rating scales : 평점 범위)\n",
    "# reader = .Reader(rating_scale=(1.0, 5.0))\n",
    "\n",
    "col_list = ['user_id', 'store_id', 'rating']\n",
    "# data = surprise.Dataset.load_from_df(user_data[col_list], reader)\n",
    "\n",
    "# 학습\n",
    "trainset = data.build_full_trainset()\n",
    "\n",
    "option={'name':'pearson', 'user_based':True}\n",
    "algo = KNNBasic(sim_options=option)\n",
    "algo.fit(trainset)\n"
   ]
  },
  {
   "cell_type": "code",
   "execution_count": 22,
   "id": "5d919cd2",
   "metadata": {},
   "outputs": [
    {
     "name": "stdout",
     "output_type": "stream",
     "text": [
      "[2]\n"
     ]
    }
   ],
   "source": [
    "index = user_list.index(1)#1번 사람 : 0번 인덱스\n",
    "result = algo.get_neighbors(index, k=1)\n",
    "print(result)"
   ]
  },
  {
   "cell_type": "code",
   "execution_count": 23,
   "id": "f44ad3fd",
   "metadata": {},
   "outputs": [],
   "source": [
    "recommand_dic = {\n",
    "        'user_id': [],\n",
    "        'store_id': [],\n",
    "    }\n",
    "\n",
    "for user_key in user_data['user_id'].unique():\n",
    "    index = user_list.index(user_key)\n",
    "    result = algo.get_neighbors(index, k=1)\n",
    "    recom_set = set()\n",
    "    for i in result:\n",
    "            max_rating = data.df[data.df['user_id'] == user_list[i]]['rating'].max()\n",
    "            recom_stores = data.df[(data.df['rating'] == max_rating) & (data.df['user_id'] == user_list[i])][\n",
    "                'store_id'].values\n",
    "            for item in recom_stores:\n",
    "                recom_set.add(item)\n",
    "\n",
    "            for item in recom_set:\n",
    "                recommand_dic['user_id'].append(user_key)\n",
    "                recommand_dic['store_id'].append(item)\n",
    "\n",
    "pickle = pd.DataFrame(recommand_dic)\n",
    "\n",
    "# BASE_DIR = os.path.dirname(os.path.abspath(__file__))\n",
    "# path = os.path.join(BASE_DIR, 'KNN.p')\n",
    "path = \"./KNN.p\"\n",
    "pd.to_pickle(pickle, path)"
   ]
  },
  {
   "cell_type": "code",
   "execution_count": 41,
   "id": "6955b3bf",
   "metadata": {},
   "outputs": [
    {
     "name": "stdout",
     "output_type": "stream",
     "text": [
      "0.8366391943369434\n",
      "{'n_epochs': 40, 'n_factors': 100}\n"
     ]
    }
   ],
   "source": [
    "param_grid = {'n_epochs': [20, 40, 60], 'n_factors': [50, 100, 200]}\n",
    "gs = GridSearchCV(SVD, param_grid, measures=['RMSE'], cv = 3)\n",
    "gs.fit(data)\n",
    "\n",
    "print(gs.best_score['rmse'])\n",
    "print(gs.best_params['rmse'])"
   ]
  },
  {
   "cell_type": "code",
   "execution_count": 43,
   "id": "e8ff8333",
   "metadata": {},
   "outputs": [
    {
     "name": "stdout",
     "output_type": "stream",
     "text": [
      "Computing the msd similarity matrix...\n",
      "Done computing similarity matrix.\n",
      "Computing the msd similarity matrix...\n",
      "Done computing similarity matrix.\n",
      "Computing the msd similarity matrix...\n",
      "Done computing similarity matrix.\n",
      "0.9449899809824899\n",
      "{}\n"
     ]
    }
   ],
   "source": [
    "param_grid = {}\n",
    "gs2 = GridSearchCV(KNNBasic, param_grid, measures=['RMSE'], cv = 3)\n",
    "gs2.fit(data)\n",
    "\n",
    "print(gs2.best_score['rmse'])\n",
    "print(gs2.best_params['rmse'])"
   ]
  },
  {
   "cell_type": "code",
   "execution_count": null,
   "id": "97a7ee0d",
   "metadata": {},
   "outputs": [],
   "source": []
  }
 ],
 "metadata": {
  "kernelspec": {
   "display_name": "Python 3 (ipykernel)",
   "language": "python",
   "name": "python3"
  },
  "language_info": {
   "codemirror_mode": {
    "name": "ipython",
    "version": 3
   },
   "file_extension": ".py",
   "mimetype": "text/x-python",
   "name": "python",
   "nbconvert_exporter": "python",
   "pygments_lexer": "ipython3",
   "version": "3.9.12"
  }
 },
 "nbformat": 4,
 "nbformat_minor": 5
}
